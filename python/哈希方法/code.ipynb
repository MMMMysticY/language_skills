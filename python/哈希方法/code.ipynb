{
 "cells": [
  {
   "cell_type": "code",
   "execution_count": 1,
   "metadata": {},
   "outputs": [],
   "source": [
    "from hashlib import md5\n",
    "import os\n",
    "import pickle"
   ]
  },
  {
   "cell_type": "markdown",
   "metadata": {},
   "source": [
    "# 对数据进行MD5哈希"
   ]
  },
  {
   "cell_type": "code",
   "execution_count": 2,
   "metadata": {},
   "outputs": [],
   "source": [
    "sql = '''\n",
    "    SELECT * \n",
    "    FROM table_a\n",
    "    WHERE ds='20230819' and user_id != \"\"\n",
    "    GROUP BY SPLIT_PART(user_id, '_', 1)\n",
    "'''"
   ]
  },
  {
   "cell_type": "code",
   "execution_count": 3,
   "metadata": {},
   "outputs": [
    {
     "data": {
      "text/plain": [
       "'1536ce5208a9577d67783b8f7423b516'"
      ]
     },
     "execution_count": 3,
     "metadata": {},
     "output_type": "execute_result"
    }
   ],
   "source": [
    "hash_key = md5(sql.encode('utf-8')).hexdigest()\n",
    "hash_key"
   ]
  },
  {
   "cell_type": "markdown",
   "metadata": {},
   "source": [
    "# 用hash_key作为cache的键 对sql的结果进行cache\n",
    "在执行sql很复杂代价很大时，将执行的结果cache是一个很好的策略。而对于sql串的string对象采用哈希作为唯一key是进行储存的合适策略。  \n",
    "若结果很大应该存在hdfs等平台，不该使用pickle方法；若结果较小则使用pickle方法很合适。"
   ]
  },
  {
   "cell_type": "code",
   "execution_count": null,
   "metadata": {},
   "outputs": [],
   "source": [
    "class MyResults(object):\n",
    "    def __init__(self, cache_file_path='./.cache_File.pkl'):\n",
    "        self.cache_file_path = cache_file_path\n",
    "        self.cache = self._load_cache()\n",
    "        # 在初始化函数中进行load_cache过程\n",
    "\n",
    "    def _load_cache(self):\n",
    "        \"\"\"\n",
    "        按照self.cache_file_path路径加载cache的pickle文件\n",
    "        加载的文件是一个dict 以md5哈希值作为key sql结果作为value值\n",
    "        :return:\n",
    "        \"\"\"\n",
    "        if os.path.exists(self.cache_file_path):\n",
    "            with open(self.cache_file_path, 'rb') as f:\n",
    "                cache = pickle.load(f)\n",
    "            print('load cache: {}'.format(len(cache)))\n",
    "        else:\n",
    "            cache = {}\n",
    "        return cache\n",
    "\n",
    "    def _save_cache(self):\n",
    "        \"\"\"\n",
    "        将self.cache对象用pickle存储本地文件\n",
    "        存储的对象是一个dict 以md5哈希值为key sql结果为value值\n",
    "        :return:\n",
    "        \"\"\"\n",
    "        with open(self.cache_file_path, 'wb') as f:\n",
    "            pickle.dump(self.cache, f)\n",
    "\n",
    "    def _update_cache(self, hash_key, res):\n",
    "        \"\"\"\n",
    "        按照哈希值更新对应的结果\n",
    "        :param hash_key: 哈希值\n",
    "        :param res: sql结果\n",
    "        :return: 更新后的cache对象\n",
    "        \"\"\"\n",
    "        cache = self._load_cache()\n",
    "        cache[hash_key] = res\n",
    "        with open(self.cache_file_path, 'wb') as f:\n",
    "            pickle.dump(cache, f)\n",
    "        return cache\n",
    "\n",
    "    def do_sql(self, sql_string):\n",
    "        \"\"\"\n",
    "        对sql_string进行执行 如果存在在cache中就返回 否则调用api去执行\n",
    "        :param sql_string: sql执行语句\n",
    "        :return:\n",
    "        \"\"\"\n",
    "        hash_key = md5(sql_string.encode('utf-8')).hexdigest()\n",
    "        if hash_key in self.cache.keys():\n",
    "            res = self.cache.get(hash_key)\n",
    "        else:\n",
    "            # 调用对应的sql_api\n",
    "            res = \"\"\n",
    "        return res\n",
    "\n",
    "    def function(self, sql_string):\n",
    "        \"\"\"\n",
    "        按照sql_string执行方法 并计算hash_key 存储在cache中，最后写入pickle文件中\n",
    "        :param sql_string: sql串对应的string对象\n",
    "        :return:\n",
    "        \"\"\"\n",
    "        result = self.do_sql(sql_string)\n",
    "        hash_key = md5(sql_string.encode('utf-8')).hexdigest()\n",
    "        self.cache[hash_key] = result\n",
    "        self._save_cache()\n"
   ]
  }
 ],
 "metadata": {
  "kernelspec": {
   "display_name": "Python 3",
   "language": "python",
   "name": "python3"
  },
  "language_info": {
   "codemirror_mode": {
    "name": "ipython",
    "version": 3
   },
   "file_extension": ".py",
   "mimetype": "text/x-python",
   "name": "python",
   "nbconvert_exporter": "python",
   "pygments_lexer": "ipython3",
   "version": "3.7.4"
  },
  "orig_nbformat": 4
 },
 "nbformat": 4,
 "nbformat_minor": 2
}
