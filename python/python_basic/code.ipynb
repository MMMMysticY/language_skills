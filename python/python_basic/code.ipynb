{
 "cells": [
  {
   "cell_type": "markdown",
   "source": [
    "# python语言技巧与注意事项"
   ],
   "metadata": {
    "collapsed": false,
    "pycharm": {
     "name": "#%% md\n"
    }
   }
  },
  {
   "cell_type": "markdown",
   "source": [
    "## *和**作为参数\n",
    "说明部分见markdown 以下为代码说明"
   ],
   "metadata": {
    "collapsed": false,
    "pycharm": {
     "name": "#%% md\n"
    }
   }
  },
  {
   "cell_type": "code",
   "execution_count": 1,
   "outputs": [
    {
     "name": "stdout",
     "output_type": "stream",
     "text": [
      "first is :  1\n",
      "type args:  <class 'tuple'>\n",
      "2\n",
      "name\n",
      "1.0\n"
     ]
    }
   ],
   "source": [
    "# *args表示传递非键值对的多个参数\n",
    "\n",
    "def test_args(a, *args):\n",
    "    print('first is : ', a)\n",
    "    print('type args: ', type(args))\n",
    "    for each in args:\n",
    "        print(each)\n",
    "\n",
    "test_args(1, '2', 'name', 1.0)\n",
    "# 从结果来看，数据类型为tuple"
   ],
   "metadata": {
    "collapsed": false,
    "pycharm": {
     "name": "#%%\n"
    }
   }
  },
  {
   "cell_type": "code",
   "execution_count": 4,
   "outputs": [
    {
     "name": "stdout",
     "output_type": "stream",
     "text": [
      "first is : 1\n",
      "type kwargs:  <class 'dict'>\n",
      "key:  name\n",
      "value:  jack\n",
      "key:  age\n",
      "value:  23\n",
      "key:  school\n",
      "value:  -1\n"
     ]
    }
   ],
   "source": [
    "# **kwargs表示传递键值对的多个参数\n",
    "\n",
    "def test_kwargs(a, **kwargs):\n",
    "    print('first is :', a)\n",
    "    print('type kwargs: ', type(kwargs))\n",
    "    for key, value in kwargs.items():\n",
    "        print('key: ', key)\n",
    "        print('value: ', value)\n",
    "\n",
    "test_kwargs(1, name='jack', age=23, school=-1)"
   ],
   "metadata": {
    "collapsed": false,
    "pycharm": {
     "name": "#%%\n"
    }
   }
  },
  {
   "cell_type": "code",
   "execution_count": 5,
   "outputs": [
    {
     "ename": "TypeError",
     "evalue": "test_kwargs() takes 1 positional argument but 4 were given",
     "output_type": "error",
     "traceback": [
      "\u001B[1;31m---------------------------------------------------------------------------\u001B[0m",
      "\u001B[1;31mTypeError\u001B[0m                                 Traceback (most recent call last)",
      "\u001B[1;32m<ipython-input-5-02d0482f0985>\u001B[0m in \u001B[0;36m<module>\u001B[1;34m\u001B[0m\n\u001B[1;32m----> 1\u001B[1;33m \u001B[0mtest_kwargs\u001B[0m\u001B[1;33m(\u001B[0m\u001B[1;36m1\u001B[0m\u001B[1;33m,\u001B[0m \u001B[1;34m'jack'\u001B[0m\u001B[1;33m,\u001B[0m \u001B[1;36m23\u001B[0m\u001B[1;33m,\u001B[0m \u001B[1;33m-\u001B[0m\u001B[1;36m1\u001B[0m\u001B[1;33m)\u001B[0m\u001B[1;33m\u001B[0m\u001B[1;33m\u001B[0m\u001B[0m\n\u001B[0m",
      "\u001B[1;31mTypeError\u001B[0m: test_kwargs() takes 1 positional argument but 4 were given"
     ]
    }
   ],
   "source": [
    "test_kwargs(1, 'jack', 23, -1)\n",
    "# 若不使用参数名= 的形式 是不正确的"
   ],
   "metadata": {
    "collapsed": false,
    "pycharm": {
     "name": "#%%\n"
    }
   }
  }
 ],
 "metadata": {
  "kernelspec": {
   "display_name": "Python 3",
   "language": "python",
   "name": "python3"
  },
  "language_info": {
   "codemirror_mode": {
    "name": "ipython",
    "version": 2
   },
   "file_extension": ".py",
   "mimetype": "text/x-python",
   "name": "python",
   "nbconvert_exporter": "python",
   "pygments_lexer": "ipython2",
   "version": "2.7.6"
  }
 },
 "nbformat": 4,
 "nbformat_minor": 0
}